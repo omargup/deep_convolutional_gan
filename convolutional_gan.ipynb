{
 "cells": [
  {
   "cell_type": "markdown",
   "metadata": {},
   "source": [
    "# Deep Convolutional Generative Adversarial Network\n"
   ]
  },
  {
   "cell_type": "code",
   "execution_count": 1,
   "metadata": {},
   "outputs": [],
   "source": [
    "import torch\n",
    "from torch import nn\n",
    "from torch.utils.data import DataLoader\n",
    "from torchvision import transforms\n",
    "from torchvision.datasets import MNIST\n",
    "from torchvision.utils import save_image\n",
    "from torchvision.utils import make_grid\n",
    "\n",
    "from tqdm.auto import tqdm\n",
    "import matplotlib.pyplot as plt\n",
    "\n",
    "import os"
   ]
  },
  {
   "cell_type": "code",
   "execution_count": 2,
   "metadata": {},
   "outputs": [],
   "source": [
    "device = torch.device('cuda' if torch.cuda.is_available() else 'cpu')"
   ]
  },
  {
   "cell_type": "markdown",
   "metadata": {},
   "source": [
    "## Data"
   ]
  },
  {
   "cell_type": "code",
   "execution_count": 3,
   "metadata": {},
   "outputs": [],
   "source": [
    "batch_size= 100\n",
    "\n",
    "# MNIST Dataset\n",
    "transform = transforms.Compose([\n",
    "    transforms.ToTensor(),\n",
    "    transforms.Normalize(mean = (0.5,), std = (0.5,))])\n",
    "\n",
    "train_set = MNIST('./data/', train=True, transform=transform, download=True)\n",
    "train_loader = DataLoader(train_set, batch_size=batch_size, shuffle=True)"
   ]
  },
  {
   "cell_type": "code",
   "execution_count": 4,
   "metadata": {
    "collapsed": false,
    "pycharm": {
     "name": "#%%\n"
    }
   },
   "outputs": [
    {
     "name": "stdout",
     "output_type": "stream",
     "text": [
      "torch.Size([100, 1, 28, 28])\n"
     ]
    }
   ],
   "source": [
    "img, _ = next(iter(train_loader))\n",
    "print(img.shape)"
   ]
  },
  {
   "cell_type": "code",
   "execution_count": 5,
   "metadata": {},
   "outputs": [
    {
     "data": {
      "image/png": "[encoded data removed]",
      "text/plain": [
       "<Figure size 432x288 with 2 Axes>"
      ]
     },
     "metadata": {
      "needs_background": "light"
     },
     "output_type": "display_data"
    }
   ],
   "source": [
    "# Example: Normalized image. Values in [-1,1]\n",
    "shw = plt.imshow(img[0].permute(1,2,0), cmap='gray')\n",
    "plt.colorbar(shw)\n",
    "plt.show()"
   ]
  },
  {
   "cell_type": "code",
   "execution_count": 6,
   "metadata": {},
   "outputs": [
    {
     "data": {
      "image/png": "[encoded data removed]",
      "text/plain": [
       "<Figure size 432x288 with 2 Axes>"
      ]
     },
     "metadata": {
      "needs_background": "light"
     },
     "output_type": "display_data"
    }
   ],
   "source": [
    "# Example: Denormalized image. Values in [0,1]\n",
    "def denormalize(x):\n",
    "    x = (x + 1) / 2\n",
    "    return x\n",
    "\n",
    "shw = plt.imshow(denormalize(img[0].permute(1,2,0)), cmap='gray')\n",
    "plt.colorbar(shw)\n",
    "plt.show()"
   ]
  },
  {
   "cell_type": "markdown",
   "metadata": {},
   "source": [
    "## GAN"
   ]
  },
  {
   "cell_type": "code",
   "execution_count": 7,
   "metadata": {},
   "outputs": [],
   "source": [
    "class Generator(nn.Module):\n",
    "    def __init__(self, input_channels=64, output_channels=1, hidden_channels=64):\n",
    "        super().__init__()\n",
    "        self.generator = nn.Sequential(\n",
    "            nn.ConvTranspose2d(input_channels, hidden_channels * 4, kernel_size=3, stride=2),\n",
    "            nn.BatchNorm2d(hidden_channels * 4),\n",
    "            nn.ReLU(inplace=True),\n",
    "\n",
    "            nn.ConvTranspose2d(hidden_channels * 4, hidden_channels * 2 , kernel_size=4, stride=1),\n",
    "            nn.BatchNorm2d(hidden_channels * 2),\n",
    "            nn.ReLU(inplace=True),\n",
    "\n",
    "            nn.ConvTranspose2d(hidden_channels * 2, hidden_channels, kernel_size=3, stride=2),\n",
    "            nn.BatchNorm2d(hidden_channels),\n",
    "            nn.ReLU(inplace=True),\n",
    "\n",
    "            nn.ConvTranspose2d(hidden_channels, output_channels, kernel_size=4, stride=2),\n",
    "            nn.Tanh())\n",
    "\n",
    "    def forward(self, x):\n",
    "        # x: [batch_size, channels=latent_dimension, width=1, height=1]\n",
    "        return self.generator(x)\n",
    "        # [batch_size, channels=1, width=28, height=28]"
   ]
  },
  {
   "cell_type": "code",
   "execution_count": 44,
   "metadata": {},
   "outputs": [],
   "source": [
    "class Discriminator(nn.Module):\n",
    "    def __init__(self, input_channels=1, hidden_channels=16):\n",
    "        super().__init__()\n",
    "        self.discriminator = nn.Sequential(\n",
    "            nn.Conv2d(input_channels, hidden_channels, kernel_size=4, stride=2),\n",
    "            nn.BatchNorm2d(hidden_channels),\n",
    "            nn.LeakyReLU(0.2, inplace=True),\n",
    "\n",
    "            nn.Conv2d(hidden_channels, hidden_channels * 2, kernel_size=3, stride=2),\n",
    "            nn.BatchNorm2d(hidden_channels * 2),\n",
    "            nn.LeakyReLU(0.2, inplace=True),\n",
    "\n",
    "            nn.Conv2d(hidden_channels * 2, hidden_channels * 4, kernel_size=4, stride=1),\n",
    "            nn.BatchNorm2d(hidden_channels * 4),\n",
    "            nn.LeakyReLU(0.2, inplace=True),\n",
    "\n",
    "            nn.Conv2d(hidden_channels * 4, 1, kernel_size=3, stride=2))\n",
    "\n",
    "    def forward(self, x):\n",
    "        return self.discriminator(x)"
   ]
  },
  {
   "cell_type": "code",
   "execution_count": 45,
   "metadata": {
    "collapsed": false,
    "pycharm": {
     "name": "#%%\n"
    }
   },
   "outputs": [],
   "source": [
    "def init_weights(m):\n",
    "    if isinstance(m, nn.Conv2d) or isinstance(m, nn.ConvTranspose2d):\n",
    "        nn.init.normal_(m.weight, 0.0, 0.02)\n",
    "    elif isinstance(m, nn.BatchNorm2d):\n",
    "        nn.init.normal_(m.weight, 0.0, 0.02)\n",
    "        nn.init.constant_(m.bias, 0)"
   ]
  },
  {
   "cell_type": "code",
   "execution_count": 54,
   "metadata": {
    "collapsed": false,
    "pycharm": {
     "name": "#%%\n"
    }
   },
   "outputs": [
    {
     "data": {
      "image/png": "[encoded data removed]",
      "text/plain": [
       "<Figure size 432x288 with 1 Axes>"
      ]
     },
     "metadata": {
      "needs_background": "light"
     },
     "output_type": "display_data"
    }
   ],
   "source": [
    "# Testing Generator\n",
    "generator = Generator(input_channels = 64,  # latent_size\n",
    "                      output_channels = 1,  # Number of channels of the image\n",
    "                      hidden_channels = 64).to(device)\n",
    "\n",
    "generator = generator.apply(init_weights)\n",
    "\n",
    "noise_vector = noise_vector = torch.randn([1,64,1,1], device=device)\n",
    "# noise_vector: [batch_size=1, channels=latent_size=64, width=1, height=1]\n",
    "fake_img = generator(noise_vector)\n",
    "# fake_img: [batch_size, channels=1, width=28, height=28]\n",
    "fake_img = denormalize(fake_img.detach().cpu().permute(0, 2, 3, 1))\n",
    "plt.imshow(fake_img[0], cmap='gray')\n",
    "plt.show()"
   ]
  },
  {
   "cell_type": "markdown",
   "metadata": {
    "collapsed": false,
    "pycharm": {
     "name": "#%% md\n"
    }
   },
   "source": [
    "## Training"
   ]
  },
  {
   "cell_type": "code",
   "execution_count": 60,
   "metadata": {
    "collapsed": false,
    "pycharm": {
     "name": "#%%\n"
    }
   },
   "outputs": [],
   "source": [
    "#Parameters and hyperparameters\n",
    "epochs = 2\n",
    "latent_size = 64\n",
    "lr = 2e-4\n",
    "betas=(0.5, 0.999)\n",
    "hidden_channels = 64\n",
    "image_channels = 1"
   ]
  },
  {
   "cell_type": "code",
   "execution_count": 61,
   "metadata": {
    "collapsed": false,
    "pycharm": {
     "name": "#%%\n"
    }
   },
   "outputs": [],
   "source": [
    "generator = Generator(input_channels = latent_size,\n",
    "                      output_channels = image_channels,\n",
    "                      hidden_channels = hidden_channels).to(device)\n",
    "discriminator = Discriminator(input_channels = image_channels,\n",
    "                              hidden_channels = hidden_channels).to(device)\n",
    "\n",
    "generator = generator.apply(init_weights)\n",
    "discriminator = discriminator.apply(init_weights)\n",
    "\n",
    "g_optimizer = torch.optim.Adam(generator.parameters(), lr=lr, betas=betas)\n",
    "d_optimizer = torch.optim.Adam(discriminator.parameters(), lr=lr, betas=betas)\n",
    "\n",
    "criterion = nn.BCEWithLogitsLoss()"
   ]
  },
  {
   "cell_type": "code",
   "execution_count": 62,
   "metadata": {
    "collapsed": false,
    "pycharm": {
     "name": "#%%\n"
    }
   },
   "outputs": [],
   "source": [
    "output_dir = 'outputs'\n",
    "images_dir = 'images'\n",
    "images_path = os.path.join(output_dir, images_dir)\n",
    "\n",
    "if not os.path.exists(images_path):\n",
    "    os.makedirs(images_path)"
   ]
  },
  {
   "cell_type": "code",
   "execution_count": 63,
   "metadata": {
    "collapsed": false,
    "pycharm": {
     "name": "#%%\n"
    }
   },
   "outputs": [
    {
     "data": {
      "image/png": "[encoded data removed]",
      "text/plain": [
       "<Figure size 432x288 with 1 Axes>"
      ]
     },
     "metadata": {
      "needs_background": "light"
     },
     "output_type": "display_data"
    }
   ],
   "source": [
    "# Save some real images\n",
    "img, _ = next(iter(train_loader))\n",
    "img_grid = make_grid(denormalize(img), nrow=10)\n",
    "save_image(img_grid, os.path.join(images_path , 'real_images.png'))\n",
    "\n",
    "img = plt.imread(os.path.join(images_path , 'real_images.png'))\n",
    "plt.imshow(img, cmap='gray')\n",
    "plt.show()"
   ]
  },
  {
   "cell_type": "code",
   "execution_count": 64,
   "metadata": {
    "collapsed": false,
    "pycharm": {
     "name": "#%%\n"
    }
   },
   "outputs": [
    {
     "data": {
      "image/png": "[encoded data removed]",
      "text/plain": [
       "<Figure size 432x288 with 1 Axes>"
      ]
     },
     "metadata": {
      "needs_background": "light"
     },
     "output_type": "display_data"
    }
   ],
   "source": [
    "#Save fake images before training\n",
    "def save_fake_images(idx, test_noise, file_path):\n",
    "    # test_noise: [batch_size, channels=latent_size, width=1, height=1]\n",
    "    fake_img = generator(test_noise)\n",
    "    # fake_img: [batch_size, channels=1, width=28, height=28]\n",
    "    fake_img_grid = make_grid(denormalize(fake_img).detach().cpu(), nrow=10)\n",
    "\n",
    "    file_name = \"fake_images-{0:0=4d}.png\".format(idx)\n",
    "    save_image(fake_img_grid, os.path.join(file_path, file_name))\n",
    "\n",
    "\n",
    "test_noise = test_noise = torch.randn([batch_size, latent_size, 1, 1], device=device)\n",
    "# test_noise: [batch_size, channels=latent_size, width=1, height=1]\n",
    "idx = 0\n",
    "\n",
    "save_fake_images(idx, test_noise, images_path)\n",
    "img = plt.imread(os.path.join(images_path, \"fake_images-{0:0=4d}.png\".format(idx)))\n",
    "plt.imshow(img, cmap='gray')\n",
    "plt.show()"
   ]
  },
  {
   "cell_type": "code",
   "execution_count": 65,
   "metadata": {
    "collapsed": false,
    "pycharm": {
     "name": "#%%\n"
    }
   },
   "outputs": [
    {
     "name": "stderr",
     "output_type": "stream",
     "text": [
      "100%|██████████| 600/600 [06:38<00:00,  1.51it/s]\n"
     ]
    },
    {
     "name": "stdout",
     "output_type": "stream",
     "text": [
      "Epoch: 1/2, g_loss: 2.527568823198476, d_loss: 0.2239614323930191\n"
     ]
    },
    {
     "name": "stderr",
     "output_type": "stream",
     "text": [
      "100%|██████████| 600/600 [06:25<00:00,  1.56it/s]"
     ]
    },
    {
     "name": "stdout",
     "output_type": "stream",
     "text": [
      "Epoch: 2/2, g_loss: 5.186336614688234, d_loss: 0.012065066248954585\n"
     ]
    },
    {
     "name": "stderr",
     "output_type": "stream",
     "text": [
      "\n"
     ]
    }
   ],
   "source": [
    "for epoch in range(1, epochs+1):\n",
    "    mean_g_loss = 0\n",
    "    mean_d_loss = 0\n",
    "    for real_img, _ in tqdm(train_loader):\n",
    "        # real_img: [batch_size, 1, 28, 28]\n",
    "        real_img = real_img.to(device)\n",
    "\n",
    "        ####################################\n",
    "        #           Discriminator          #\n",
    "        ####################################\n",
    "        discriminator.train()\n",
    "\n",
    "        # Loss for real images\n",
    "        pred_real =  discriminator(real_img)\n",
    "        target_real = torch.ones_like(pred_real).to(device)\n",
    "        d_loss_real = criterion(pred_real, target_real)\n",
    "\n",
    "        # Loss for fake images\n",
    "        noise_vector = noise_vector = torch.randn([batch_size, latent_size, 1, 1], device=device)\n",
    "        fake_img = generator(noise_vector)\n",
    "        pred_fake = discriminator(fake_img.detach())\n",
    "        target_fake = torch.zeros_like(pred_fake)\n",
    "        d_loss_fake = criterion(pred_fake, target_fake)\n",
    "\n",
    "        # Discriminator loss\n",
    "        d_loss = (d_loss_real + d_loss_fake) / 2\n",
    "\n",
    "        # Backprop and optimize\n",
    "        d_optimizer.zero_grad()\n",
    "        d_loss.backward()\n",
    "        d_optimizer.step()\n",
    "\n",
    "        ####################################\n",
    "        #             Generator            #\n",
    "        ####################################\n",
    "        generator.train()\n",
    "\n",
    "        # Loss for fake images\n",
    "        noise_vector = noise_vector = torch.randn([batch_size, latent_size, 1, 1], device=device)\n",
    "        fake_img = generator(noise_vector)\n",
    "        pred = discriminator(fake_img)\n",
    "        target = torch.ones_like(pred).to(device)\n",
    "        g_loss = criterion(pred, target)\n",
    "\n",
    "        # Backprop and optimize\n",
    "        g_optimizer.zero_grad()\n",
    "        #d_optimizer.zero_grad()\n",
    "        g_loss.backward()\n",
    "        g_optimizer.step()\n",
    "\n",
    "        # Stats\n",
    "        mean_d_loss += d_loss.item() / len(train_loader)\n",
    "        mean_g_loss += g_loss.item() / len(train_loader)\n",
    "\n",
    "    save_fake_images(epoch, test_noise, images_path)\n",
    "\n",
    "    # Verbose\n",
    "    print(f\"Epoch: {epoch}/{epochs}, g_loss: {mean_g_loss}, d_loss: {mean_d_loss}\")\n",
    "\n",
    "    # Visualization\n",
    "    if (epoch % 5) == 0:\n",
    "        img = plt.imread(os.path.join(output_dir, \"fake_images-{0:0=4d}.png\".format(epoch)))\n",
    "        plt.imshow(img, cmap='gray')\n",
    "        plt.show()"
   ]
  },
  {
   "cell_type": "markdown",
   "metadata": {
    "collapsed": false,
    "pycharm": {
     "name": "#%% md\n"
    }
   },
   "source": [
    "## Saving"
   ]
  },
  {
   "cell_type": "code",
   "execution_count": null,
   "metadata": {
    "collapsed": false,
    "pycharm": {
     "name": "#%%\n"
    }
   },
   "outputs": [],
   "source": []
  },
  {
   "cell_type": "code",
   "execution_count": null,
   "metadata": {
    "collapsed": false,
    "pycharm": {
     "name": "#%%\n"
    }
   },
   "outputs": [],
   "source": []
  },
  {
   "cell_type": "code",
   "execution_count": null,
   "metadata": {
    "collapsed": false,
    "pycharm": {
     "name": "#%%\n"
    }
   },
   "outputs": [],
   "source": []
  },
  {
   "cell_type": "markdown",
   "metadata": {
    "collapsed": false,
    "pycharm": {
     "name": "#%% md\n"
    }
   },
   "source": [
    "## Testing"
   ]
  },
  {
   "cell_type": "code",
   "execution_count": null,
   "metadata": {
    "collapsed": false,
    "pycharm": {
     "name": "#%%\n"
    }
   },
   "outputs": [],
   "source": []
  },
  {
   "cell_type": "code",
   "execution_count": null,
   "metadata": {
    "collapsed": false,
    "pycharm": {
     "name": "#%%\n"
    }
   },
   "outputs": [],
   "source": []
  },
  {
   "cell_type": "code",
   "execution_count": null,
   "metadata": {
    "collapsed": false,
    "pycharm": {
     "name": "#%%\n"
    }
   },
   "outputs": [],
   "source": []
  },
  {
   "cell_type": "code",
   "execution_count": null,
   "metadata": {
    "collapsed": false,
    "pycharm": {
     "name": "#%%\n"
    }
   },
   "outputs": [],
   "source": []
  },
  {
   "cell_type": "markdown",
   "metadata": {
    "collapsed": false,
    "pycharm": {
     "name": "#%% md\n"
    }
   },
   "source": [
    "\n",
    "## References\n",
    "\n",
    "* Generative Adversarial Nets [Goodfellow et al., 2014]: https://arxiv.org/pdf/1406.2661.pdf\n",
    "* https://www.kaggle.com/vatsalmavani/deep-convolutional-gan-in-pytorch"
   ]
  }
 ],
 "metadata": {
  "interpreter": {
   "hash": "2def132e6ff2d4a8f828400b7561c2d8eeec08ca69bfb84d2ccf8d1757b29253"
  },
  "kernelspec": {
   "display_name": "Python 3.7.2 64-bit ('torch_env': conda)",
   "language": "python",
   "name": "python3"
  },
  "language_info": {
   "codemirror_mode": {
    "name": "ipython",
    "version": 3
   },
   "file_extension": ".py",
   "mimetype": "text/x-python",
   "name": "python",
   "nbconvert_exporter": "python",
   "pygments_lexer": "ipython3",
   "version": "3.7.2"
  },
  "orig_nbformat": 4
 },
 "nbformat": 4,
 "nbformat_minor": 2
}
